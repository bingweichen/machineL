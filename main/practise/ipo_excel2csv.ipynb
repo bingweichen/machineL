{
 "cells": [
  {
   "cell_type": "code",
   "execution_count": 11,
   "metadata": {},
   "outputs": [],
   "source": [
    "import numpy as np\n",
    "import pandas as pd\n",
    "import matplotlib.pyplot as plt\n",
    "from sklearn import linear_model\n",
    "from patsy import dmatrix\n",
    "%matplotlib inline\n",
    "excel_path = '/Users/admin/IdeaProjects/machineL/dataset/ipos.xlsx'\n",
    "xls = pd.ExcelFile(excel_path)\n",
    "exchanges = xls.sheet_names\n",
    "ipos = pd.read_excel(xls, sheet_name=exchanges[0])\n"
   ]
  },
  {
   "cell_type": "code",
   "execution_count": 41,
   "metadata": {},
   "outputs": [],
   "source": [
    "ipos.drop([1335], inplace=True)"
   ]
  },
  {
   "cell_type": "code",
   "execution_count": 42,
   "metadata": {},
   "outputs": [
    {
     "data": {
      "text/html": [
       "<div>\n",
       "<style scoped>\n",
       "    .dataframe tbody tr th:only-of-type {\n",
       "        vertical-align: middle;\n",
       "    }\n",
       "\n",
       "    .dataframe tbody tr th {\n",
       "        vertical-align: top;\n",
       "    }\n",
       "\n",
       "    .dataframe thead th {\n",
       "        text-align: right;\n",
       "    }\n",
       "</style>\n",
       "<table border=\"1\" class=\"dataframe\">\n",
       "  <thead>\n",
       "    <tr style=\"text-align: right;\">\n",
       "      <th></th>\n",
       "      <th>Trade Date</th>\n",
       "      <th>Issuer</th>\n",
       "      <th>Symbol</th>\n",
       "      <th>Lead/Joint-Lead Managers</th>\n",
       "      <th>Offer Price</th>\n",
       "      <th>Opening Price</th>\n",
       "      <th>1st Day Close</th>\n",
       "      <th>1st Day % Px Chng</th>\n",
       "      <th>$ Change Opening</th>\n",
       "      <th>$ Change Close</th>\n",
       "      <th>Star Ratings</th>\n",
       "      <th>Performed</th>\n",
       "    </tr>\n",
       "  </thead>\n",
       "  <tbody>\n",
       "  </tbody>\n",
       "</table>\n",
       "</div>"
      ],
      "text/plain": [
       "Empty DataFrame\n",
       "Columns: [Trade Date, Issuer, Symbol, Lead/Joint-Lead Managers, Offer Price, Opening Price, 1st Day Close, 1st Day % Px Chng , $ Change Opening, $ Change Close, Star Ratings, Performed]\n",
       "Index: []"
      ]
     },
     "execution_count": 42,
     "metadata": {},
     "output_type": "execute_result"
    }
   ],
   "source": [
    "ipos[ipos[\"Trade Date\"] == \"11/120\"]"
   ]
  },
  {
   "cell_type": "code",
   "execution_count": 45,
   "metadata": {},
   "outputs": [
    {
     "data": {
      "text/plain": [
       "2964    None\n",
       "2968    None\n",
       "2965    None\n",
       "2966    None\n",
       "2967    None\n",
       "2970    None\n",
       "2971    None\n",
       "2969    None\n",
       "2972    None\n",
       "2973    None\n",
       "2974    None\n",
       "2975    None\n",
       "2976    None\n",
       "2977    None\n",
       "2978    None\n",
       "2979    None\n",
       "2980    None\n",
       "2981    None\n",
       "2982    None\n",
       "2983    None\n",
       "2984    None\n",
       "2985    None\n",
       "2986    None\n",
       "2987    None\n",
       "2988    None\n",
       "2989    None\n",
       "2990    None\n",
       "2991    None\n",
       "2992    None\n",
       "2993    None\n",
       "        ... \n",
       "191     None\n",
       "192     None\n",
       "193     None\n",
       "194     None\n",
       "195     None\n",
       "196     None\n",
       "197     None\n",
       "198     None\n",
       "199     None\n",
       "200     None\n",
       "201     None\n",
       "202     None\n",
       "203     None\n",
       "205     None\n",
       "206     None\n",
       "204     None\n",
       "207     None\n",
       "208     None\n",
       "209     None\n",
       "210     None\n",
       "211     None\n",
       "212     None\n",
       "215     None\n",
       "213     None\n",
       "214     None\n",
       "216     None\n",
       "217     None\n",
       "218     None\n",
       "219     None\n",
       "220     None\n",
       "Length: 3200, dtype: object"
      ]
     },
     "execution_count": 45,
     "metadata": {},
     "output_type": "execute_result"
    }
   ],
   "source": [
    "def print_ipo(row):\n",
    "    try:\n",
    "        result = pd.to_datetime(row[\"Trade Date\"])\n",
    "    except:\n",
    "        print(row.index)\n",
    "        print(row)\n",
    "\n",
    "ipos.apply(print_ipo,  axis=1)"
   ]
  },
  {
   "cell_type": "code",
   "execution_count": 46,
   "metadata": {
    "scrolled": true
   },
   "outputs": [],
   "source": [
    "ipos.sort_values('Trade Date', inplace=True)"
   ]
  },
  {
   "cell_type": "code",
   "execution_count": 47,
   "metadata": {},
   "outputs": [],
   "source": [
    "ipos['Trade Date'] = pd.to_datetime(ipos['Trade Date'])\n"
   ]
  },
  {
   "cell_type": "code",
   "execution_count": 55,
   "metadata": {},
   "outputs": [
    {
     "data": {
      "text/html": [
       "<div>\n",
       "<style scoped>\n",
       "    .dataframe tbody tr th:only-of-type {\n",
       "        vertical-align: middle;\n",
       "    }\n",
       "\n",
       "    .dataframe tbody tr th {\n",
       "        vertical-align: top;\n",
       "    }\n",
       "\n",
       "    .dataframe thead th {\n",
       "        text-align: right;\n",
       "    }\n",
       "</style>\n",
       "<table border=\"1\" class=\"dataframe\">\n",
       "  <thead>\n",
       "    <tr style=\"text-align: right;\">\n",
       "      <th></th>\n",
       "      <th>Date</th>\n",
       "      <th>Issuer</th>\n",
       "      <th>Symbol</th>\n",
       "      <th>Lead/Joint-Lead Managers</th>\n",
       "      <th>Offer Price</th>\n",
       "      <th>Opening Price</th>\n",
       "      <th>1st Day Close</th>\n",
       "      <th>1st Day % Px Chng</th>\n",
       "      <th>$ Change Opening</th>\n",
       "      <th>$ Change Close</th>\n",
       "      <th>Star Ratings</th>\n",
       "      <th>Performed</th>\n",
       "    </tr>\n",
       "  </thead>\n",
       "  <tbody>\n",
       "    <tr>\n",
       "      <th>2964</th>\n",
       "      <td>2000-05-12</td>\n",
       "      <td>Sequoia Software</td>\n",
       "      <td>SQSW</td>\n",
       "      <td>Lehman Brothers</td>\n",
       "      <td>8.0</td>\n",
       "      <td>10.25000</td>\n",
       "      <td>10.06250</td>\n",
       "      <td>0.257812</td>\n",
       "      <td>2.25000</td>\n",
       "      <td>2.06250</td>\n",
       "      <td>2</td>\n",
       "      <td>NaN</td>\n",
       "    </tr>\n",
       "    <tr>\n",
       "      <th>2968</th>\n",
       "      <td>2000-05-18</td>\n",
       "      <td>New Focus</td>\n",
       "      <td>NUFO</td>\n",
       "      <td>Credit Suisse First Boston</td>\n",
       "      <td>20.0</td>\n",
       "      <td>40.00000</td>\n",
       "      <td>51.00000</td>\n",
       "      <td>1.550000</td>\n",
       "      <td>20.00000</td>\n",
       "      <td>31.00000</td>\n",
       "      <td>3</td>\n",
       "      <td>NaN</td>\n",
       "    </tr>\n",
       "    <tr>\n",
       "      <th>2965</th>\n",
       "      <td>2000-05-18</td>\n",
       "      <td>US Unwired</td>\n",
       "      <td>UNWR</td>\n",
       "      <td>Donaldson Lufkin &amp; Jenrette</td>\n",
       "      <td>11.0</td>\n",
       "      <td>11.03125</td>\n",
       "      <td>11.06250</td>\n",
       "      <td>0.005682</td>\n",
       "      <td>0.03125</td>\n",
       "      <td>0.06250</td>\n",
       "      <td>1</td>\n",
       "      <td>NaN</td>\n",
       "    </tr>\n",
       "    <tr>\n",
       "      <th>2966</th>\n",
       "      <td>2000-05-18</td>\n",
       "      <td>Nogatech</td>\n",
       "      <td>NGTC</td>\n",
       "      <td>W.R. Hambrecht+Co</td>\n",
       "      <td>12.0</td>\n",
       "      <td>11.87500</td>\n",
       "      <td>9.40625</td>\n",
       "      <td>-0.216146</td>\n",
       "      <td>-0.12500</td>\n",
       "      <td>-2.59375</td>\n",
       "      <td>1</td>\n",
       "      <td>NaN</td>\n",
       "    </tr>\n",
       "    <tr>\n",
       "      <th>2967</th>\n",
       "      <td>2000-05-18</td>\n",
       "      <td>iBEAM Broadcasting</td>\n",
       "      <td>IBEM</td>\n",
       "      <td>Morgan Stanley Dean Witter</td>\n",
       "      <td>10.0</td>\n",
       "      <td>11.50000</td>\n",
       "      <td>14.00000</td>\n",
       "      <td>0.400000</td>\n",
       "      <td>1.50000</td>\n",
       "      <td>4.00000</td>\n",
       "      <td>2</td>\n",
       "      <td>NaN</td>\n",
       "    </tr>\n",
       "  </tbody>\n",
       "</table>\n",
       "</div>"
      ],
      "text/plain": [
       "           Date               Issuer Symbol     Lead/Joint-Lead Managers  \\\n",
       "2964 2000-05-12    Sequoia Software    SQSW              Lehman Brothers   \n",
       "2968 2000-05-18           New Focus    NUFO   Credit Suisse First Boston   \n",
       "2965 2000-05-18           US Unwired   UNWR  Donaldson Lufkin & Jenrette   \n",
       "2966 2000-05-18            Nogatech    NGTC            W.R. Hambrecht+Co   \n",
       "2967 2000-05-18  iBEAM Broadcasting    IBEM   Morgan Stanley Dean Witter   \n",
       "\n",
       "      Offer Price  Opening Price  1st Day Close  1st Day % Px Chng   \\\n",
       "2964          8.0       10.25000       10.06250            0.257812   \n",
       "2968         20.0       40.00000       51.00000            1.550000   \n",
       "2965         11.0       11.03125       11.06250            0.005682   \n",
       "2966         12.0       11.87500        9.40625           -0.216146   \n",
       "2967         10.0       11.50000       14.00000            0.400000   \n",
       "\n",
       "      $ Change Opening  $ Change Close Star Ratings Performed  \n",
       "2964           2.25000         2.06250            2       NaN  \n",
       "2968          20.00000        31.00000            3       NaN  \n",
       "2965           0.03125         0.06250            1       NaN  \n",
       "2966          -0.12500        -2.59375            1       NaN  \n",
       "2967           1.50000         4.00000            2       NaN  "
      ]
     },
     "execution_count": 55,
     "metadata": {},
     "output_type": "execute_result"
    }
   ],
   "source": [
    "ipos.head(5)"
   ]
  },
  {
   "cell_type": "code",
   "execution_count": 50,
   "metadata": {},
   "outputs": [],
   "source": [
    "ipos.to_csv(\"/Users/admin/IdeaProjects/machineL/dataset/ipos.csv\", index=False)"
   ]
  },
  {
   "cell_type": "code",
   "execution_count": 54,
   "metadata": {},
   "outputs": [],
   "source": [
    "ipos.rename({\"Trade Date\": \"Date\"}, axis='columns', inplace=True)"
   ]
  },
  {
   "cell_type": "code",
   "execution_count": null,
   "metadata": {},
   "outputs": [],
   "source": []
  }
 ],
 "metadata": {
  "kernelspec": {
   "display_name": "machineL",
   "language": "python",
   "name": "machinel"
  },
  "language_info": {
   "codemirror_mode": {
    "name": "ipython",
    "version": 3
   },
   "file_extension": ".py",
   "mimetype": "text/x-python",
   "name": "python",
   "nbconvert_exporter": "python",
   "pygments_lexer": "ipython3",
   "version": "3.7.1"
  }
 },
 "nbformat": 4,
 "nbformat_minor": 2
}
